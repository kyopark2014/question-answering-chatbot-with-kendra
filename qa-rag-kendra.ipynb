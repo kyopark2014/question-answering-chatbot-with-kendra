{
 "cells": [
  {
   "cell_type": "markdown",
   "id": "1671b333",
   "metadata": {},
   "source": [
    "# Question and Answering\n",
    "[Retrieval Augmented Question & Answering with Amazon Bedrock using LangChain](https://github.com/aws-samples/amazon-bedrock-workshop/blob/main/03_QuestionAnswering/01_qa_w_rag_claude.ipynb)"
   ]
  },
  {
   "cell_type": "code",
   "execution_count": 1,
   "id": "317fc647",
   "metadata": {
    "tags": []
   },
   "outputs": [],
   "source": [
    "from sagemaker import get_execution_role"
   ]
  },
  {
   "cell_type": "code",
   "execution_count": 2,
   "id": "1e007e57",
   "metadata": {
    "tags": []
   },
   "outputs": [
    {
     "name": "stdout",
     "output_type": "stream",
     "text": [
      "SageMaker Execution Role Name: AmazonSageMakerServiceCatalogProductsUseRole\n"
     ]
    }
   ],
   "source": [
    "strSageMakerRoleName = get_execution_role().rsplit('/', 1)[-1]\n",
    "print (f\"SageMaker Execution Role Name: {strSageMakerRoleName}\")"
   ]
  },
  {
   "cell_type": "code",
   "execution_count": 3,
   "id": "389dfaf8",
   "metadata": {},
   "outputs": [
    {
     "name": "stdout",
     "output_type": "stream",
     "text": [
      "--2023-07-26 15:48:37--  https://preview.documentation.bedrock.aws.dev/Documentation/SDK/bedrock-python-sdk.zip\n",
      "Resolving preview.documentation.bedrock.aws.dev (preview.documentation.bedrock.aws.dev)... 18.65.168.46, 18.65.168.92, 18.65.168.52, ...\n",
      "Connecting to preview.documentation.bedrock.aws.dev (preview.documentation.bedrock.aws.dev)|18.65.168.46|:443... connected.\n",
      "HTTP request sent, awaiting response... 200 OK\n",
      "Length: 249246443 (238M) [application/zip]\n",
      "Saving to: ‘bedrock-python-sdk.zip’\n",
      "\n",
      "100%[======================================>] 249,246,443 26.6MB/s   in 10s    \n",
      "\n",
      "2023-07-26 15:48:48 (23.9 MB/s) - ‘bedrock-python-sdk.zip’ saved [249246443/249246443]\n",
      "\n",
      "Archive:  bedrock-python-sdk.zip\n",
      "   creating: bedrock-sdk/reviews/\n",
      "  inflating: bedrock-sdk/.unit-crt   \n",
      "  inflating: bedrock-sdk/awscli-bundle.zip  \n",
      "  inflating: bedrock-sdk/awscli-1.27.162.tar.gz  \n",
      "  inflating: bedrock-sdk/botocore-1.29.162.tar.gz  \n",
      "  inflating: bedrock-sdk/AWSCLISetup.exe  \n",
      "  inflating: bedrock-sdk/boto3-1.26.162.tar.gz  \n",
      "  inflating: bedrock-sdk/botocore-1.29.162-py3-none-any.whl  \n",
      "  inflating: bedrock-sdk/AWSCLI64.msi  \n",
      "  inflating: bedrock-sdk/manifest.json  \n",
      "  inflating: bedrock-sdk/AWSCLI64PY3.msi  \n",
      "  inflating: bedrock-sdk/.functional  \n",
      "  inflating: bedrock-sdk/AWSCLI32PY3.msi  \n",
      "  inflating: bedrock-sdk/models-starfort-report.json  \n",
      "  inflating: bedrock-sdk/.functional-crt  \n",
      "  inflating: bedrock-sdk/.unit       \n",
      "  inflating: bedrock-sdk/boto3-1.26.162-py3-none-any.whl  \n",
      "  inflating: bedrock-sdk/awscli-1.27.162-py3-none-any.whl  \n",
      "  inflating: bedrock-sdk/AWSCLI32.msi  \n",
      "  inflating: bedrock-sdk/reviews/awscli-1.27.162.html  \n",
      "  inflating: bedrock-sdk/reviews/botocore-1.29.162.commits  \n",
      "  inflating: bedrock-sdk/reviews/boto3-1.26.162.commits  \n",
      "  inflating: bedrock-sdk/reviews/boto3-1.26.162.html  \n",
      "  inflating: bedrock-sdk/reviews/botocore-1.29.162.html  \n",
      "  inflating: bedrock-sdk/reviews/awscli-1.27.162.commits  \n",
      "  inflating: bedrock-sdk/reviews/botocore-1.29.162.diff  \n",
      "  inflating: bedrock-sdk/reviews/awscli-1.27.162.diff  \n",
      "  inflating: bedrock-sdk/reviews/boto3-1.26.162.diff  \n"
     ]
    }
   ],
   "source": [
    "#!wget https://preview.documentation.bedrock.aws.dev/Documentation/SDK/bedrock-python-sdk.zip\n",
    "#!unzip bedrock-python-sdk.zip -d bedrock-sdk\n",
    "#!rm -rf bedrock-python-sdk.zip"
   ]
  },
  {
   "cell_type": "code",
   "execution_count": 11,
   "id": "5dfb58df",
   "metadata": {},
   "outputs": [],
   "source": [
    "install_needed = False"
   ]
  },
  {
   "cell_type": "code",
   "execution_count": 5,
   "id": "c5f6f185",
   "metadata": {},
   "outputs": [
    {
     "name": "stdout",
     "output_type": "stream",
     "text": [
      "installing deps and restarting kernel\n",
      "Looking in indexes: https://pypi.org/simple, https://pip.repos.neuron.amazonaws.com\n",
      "Requirement already satisfied: pip in /home/ec2-user/anaconda3/envs/python3/lib/python3.10/site-packages (23.1.2)\n",
      "Collecting pip\n",
      "  Downloading pip-23.2.1-py3-none-any.whl (2.1 MB)\n",
      "\u001b[2K     \u001b[90m━━━━━━━━━━━━━━━━━━━━━━━━━━━━━━━━━━━━━━━━\u001b[0m \u001b[32m2.1/2.1 MB\u001b[0m \u001b[31m14.7 MB/s\u001b[0m eta \u001b[36m0:00:00\u001b[0m00:01\u001b[0m00:01\u001b[0m\n",
      "\u001b[?25hInstalling collected packages: pip\n",
      "  Attempting uninstall: pip\n",
      "    Found existing installation: pip 23.1.2\n",
      "    Uninstalling pip-23.1.2:\n",
      "      Successfully uninstalled pip-23.1.2\n",
      "Successfully installed pip-23.2.1\n",
      "Looking in indexes: https://pypi.org/simple, https://pip.repos.neuron.amazonaws.com\n",
      "Requirement already satisfied: sagemaker in /home/ec2-user/anaconda3/envs/python3/lib/python3.10/site-packages (2.167.0)\n",
      "Collecting sagemaker\n",
      "  Downloading sagemaker-2.173.0.tar.gz (854 kB)\n",
      "\u001b[2K     \u001b[90m━━━━━━━━━━━━━━━━━━━━━━━━━━━━━━━━━━━━━━━\u001b[0m \u001b[32m854.4/854.4 kB\u001b[0m \u001b[31m5.3 MB/s\u001b[0m eta \u001b[36m0:00:00\u001b[0m00:01\u001b[0m00:01\u001b[0m\n",
      "\u001b[?25h  Preparing metadata (setup.py) ... \u001b[?25ldone\n",
      "\u001b[?25hRequirement already satisfied: attrs<24,>=23.1.0 in /home/ec2-user/anaconda3/envs/python3/lib/python3.10/site-packages (from sagemaker) (23.1.0)\n",
      "Requirement already satisfied: boto3<2.0,>=1.26.131 in /home/ec2-user/anaconda3/envs/python3/lib/python3.10/site-packages (from sagemaker) (1.26.157)\n",
      "Requirement already satisfied: cloudpickle==2.2.1 in /home/ec2-user/anaconda3/envs/python3/lib/python3.10/site-packages (from sagemaker) (2.2.1)\n",
      "Requirement already satisfied: google-pasta in /home/ec2-user/anaconda3/envs/python3/lib/python3.10/site-packages (from sagemaker) (0.2.0)\n",
      "Requirement already satisfied: numpy<2.0,>=1.9.0 in /home/ec2-user/anaconda3/envs/python3/lib/python3.10/site-packages (from sagemaker) (1.22.3)\n",
      "Requirement already satisfied: protobuf<5.0,>=3.12 in /home/ec2-user/anaconda3/envs/python3/lib/python3.10/site-packages (from sagemaker) (3.20.3)\n",
      "Requirement already satisfied: smdebug_rulesconfig==1.0.1 in /home/ec2-user/anaconda3/envs/python3/lib/python3.10/site-packages (from sagemaker) (1.0.1)\n",
      "Requirement already satisfied: importlib-metadata<7.0,>=1.4.0 in /home/ec2-user/anaconda3/envs/python3/lib/python3.10/site-packages (from sagemaker) (4.13.0)\n",
      "Requirement already satisfied: packaging>=20.0 in /home/ec2-user/anaconda3/envs/python3/lib/python3.10/site-packages (from sagemaker) (21.3)\n",
      "Requirement already satisfied: pandas in /home/ec2-user/anaconda3/envs/python3/lib/python3.10/site-packages (from sagemaker) (2.0.1)\n",
      "Requirement already satisfied: pathos in /home/ec2-user/anaconda3/envs/python3/lib/python3.10/site-packages (from sagemaker) (0.3.0)\n",
      "Requirement already satisfied: schema in /home/ec2-user/anaconda3/envs/python3/lib/python3.10/site-packages (from sagemaker) (0.7.5)\n",
      "Collecting PyYAML~=6.0 (from sagemaker)\n",
      "  Obtaining dependency information for PyYAML~=6.0 from https://files.pythonhosted.org/packages/29/61/bf33c6c85c55bc45a29eee3195848ff2d518d84735eb0e2d8cb42e0d285e/PyYAML-6.0.1-cp310-cp310-manylinux_2_17_x86_64.manylinux2014_x86_64.whl.metadata\n",
      "  Downloading PyYAML-6.0.1-cp310-cp310-manylinux_2_17_x86_64.manylinux2014_x86_64.whl.metadata (2.1 kB)\n",
      "Requirement already satisfied: jsonschema in /home/ec2-user/anaconda3/envs/python3/lib/python3.10/site-packages (from sagemaker) (4.17.3)\n",
      "Requirement already satisfied: platformdirs in /home/ec2-user/anaconda3/envs/python3/lib/python3.10/site-packages (from sagemaker) (3.5.0)\n",
      "Requirement already satisfied: tblib==1.7.0 in /home/ec2-user/anaconda3/envs/python3/lib/python3.10/site-packages (from sagemaker) (1.7.0)\n",
      "Requirement already satisfied: botocore<1.30.0,>=1.29.157 in /home/ec2-user/anaconda3/envs/python3/lib/python3.10/site-packages (from boto3<2.0,>=1.26.131->sagemaker) (1.29.157)\n",
      "Requirement already satisfied: jmespath<2.0.0,>=0.7.1 in /home/ec2-user/anaconda3/envs/python3/lib/python3.10/site-packages (from boto3<2.0,>=1.26.131->sagemaker) (1.0.1)\n",
      "Requirement already satisfied: s3transfer<0.7.0,>=0.6.0 in /home/ec2-user/anaconda3/envs/python3/lib/python3.10/site-packages (from boto3<2.0,>=1.26.131->sagemaker) (0.6.1)\n",
      "Requirement already satisfied: zipp>=0.5 in /home/ec2-user/anaconda3/envs/python3/lib/python3.10/site-packages (from importlib-metadata<7.0,>=1.4.0->sagemaker) (3.15.0)\n",
      "Requirement already satisfied: pyparsing!=3.0.5,>=2.0.2 in /home/ec2-user/anaconda3/envs/python3/lib/python3.10/site-packages (from packaging>=20.0->sagemaker) (3.0.9)\n",
      "Requirement already satisfied: six in /home/ec2-user/anaconda3/envs/python3/lib/python3.10/site-packages (from google-pasta->sagemaker) (1.16.0)\n",
      "Requirement already satisfied: pyrsistent!=0.17.0,!=0.17.1,!=0.17.2,>=0.14.0 in /home/ec2-user/anaconda3/envs/python3/lib/python3.10/site-packages (from jsonschema->sagemaker) (0.19.3)\n",
      "Requirement already satisfied: python-dateutil>=2.8.2 in /home/ec2-user/anaconda3/envs/python3/lib/python3.10/site-packages (from pandas->sagemaker) (2.8.2)\n",
      "Requirement already satisfied: pytz>=2020.1 in /home/ec2-user/anaconda3/envs/python3/lib/python3.10/site-packages (from pandas->sagemaker) (2023.3)\n",
      "Requirement already satisfied: tzdata>=2022.1 in /home/ec2-user/anaconda3/envs/python3/lib/python3.10/site-packages (from pandas->sagemaker) (2023.3)\n",
      "Requirement already satisfied: ppft>=1.7.6.6 in /home/ec2-user/anaconda3/envs/python3/lib/python3.10/site-packages (from pathos->sagemaker) (1.7.6.6)\n",
      "Requirement already satisfied: dill>=0.3.6 in /home/ec2-user/anaconda3/envs/python3/lib/python3.10/site-packages (from pathos->sagemaker) (0.3.6)\n",
      "Requirement already satisfied: pox>=0.3.2 in /home/ec2-user/anaconda3/envs/python3/lib/python3.10/site-packages (from pathos->sagemaker) (0.3.2)\n",
      "Requirement already satisfied: multiprocess>=0.70.14 in /home/ec2-user/anaconda3/envs/python3/lib/python3.10/site-packages (from pathos->sagemaker) (0.70.14)\n",
      "Requirement already satisfied: contextlib2>=0.5.5 in /home/ec2-user/anaconda3/envs/python3/lib/python3.10/site-packages (from schema->sagemaker) (21.6.0)\n",
      "Requirement already satisfied: urllib3<1.27,>=1.25.4 in /home/ec2-user/anaconda3/envs/python3/lib/python3.10/site-packages (from botocore<1.30.0,>=1.29.157->boto3<2.0,>=1.26.131->sagemaker) (1.26.14)\n",
      "Downloading PyYAML-6.0.1-cp310-cp310-manylinux_2_17_x86_64.manylinux2014_x86_64.whl (705 kB)\n",
      "\u001b[2K   \u001b[90m━━━━━━━━━━━━━━━━━━━━━━━━━━━━━━━━━━━━━━━━\u001b[0m \u001b[32m705.5/705.5 kB\u001b[0m \u001b[31m82.2 MB/s\u001b[0m eta \u001b[36m0:00:00\u001b[0m\n",
      "\u001b[?25hBuilding wheels for collected packages: sagemaker\n",
      "  Building wheel for sagemaker (setup.py) ... \u001b[?25ldone\n",
      "\u001b[?25h  Created wheel for sagemaker: filename=sagemaker-2.173.0-py2.py3-none-any.whl size=1163282 sha256=0432323ebcb7b3c1fde8c011ce34a9ff1fe80e8224c32bc6ad5474c6efbedc92\n",
      "  Stored in directory: /home/ec2-user/.cache/pip/wheels/cc/23/21/6857de3905209ac2dbbe974e18a5654d28cd247f4223ff6bff\n",
      "Successfully built sagemaker\n",
      "Installing collected packages: PyYAML, sagemaker\n",
      "  Attempting uninstall: PyYAML\n",
      "    Found existing installation: PyYAML 5.4.1\n",
      "    Uninstalling PyYAML-5.4.1:\n",
      "      Successfully uninstalled PyYAML-5.4.1\n",
      "  Attempting uninstall: sagemaker\n",
      "    Found existing installation: sagemaker 2.167.0\n",
      "    Uninstalling sagemaker-2.167.0:\n",
      "      Successfully uninstalled sagemaker-2.167.0\n",
      "\u001b[31mERROR: pip's dependency resolver does not currently take into account all the packages that are installed. This behaviour is the source of the following dependency conflicts.\n",
      "awscli 1.27.157 requires PyYAML<5.5,>=3.10, but you have pyyaml 6.0.1 which is incompatible.\n",
      "sparkmagic 0.20.5 requires nest-asyncio==1.5.5, but you have nest-asyncio 1.5.6 which is incompatible.\n",
      "sparkmagic 0.20.5 requires pandas<2.0.0,>=0.17.1, but you have pandas 2.0.1 which is incompatible.\u001b[0m\u001b[31m\n",
      "\u001b[0mSuccessfully installed PyYAML-6.0.1 sagemaker-2.173.0\n",
      "Looking in indexes: https://pypi.org/simple, https://pip.repos.neuron.amazonaws.com\n",
      "Processing ./bedrock-sdk/botocore-1.29.162-py3-none-any.whl\n",
      "Requirement already satisfied: jmespath<2.0.0,>=0.7.1 in /home/ec2-user/anaconda3/envs/python3/lib/python3.10/site-packages (from botocore==1.29.162) (1.0.1)\n",
      "Requirement already satisfied: python-dateutil<3.0.0,>=2.1 in /home/ec2-user/anaconda3/envs/python3/lib/python3.10/site-packages (from botocore==1.29.162) (2.8.2)\n",
      "Requirement already satisfied: urllib3<1.27,>=1.25.4 in /home/ec2-user/anaconda3/envs/python3/lib/python3.10/site-packages (from botocore==1.29.162) (1.26.14)\n",
      "Requirement already satisfied: six>=1.5 in /home/ec2-user/anaconda3/envs/python3/lib/python3.10/site-packages (from python-dateutil<3.0.0,>=2.1->botocore==1.29.162) (1.16.0)\n",
      "Installing collected packages: botocore\n",
      "  Attempting uninstall: botocore\n",
      "    Found existing installation: botocore 1.29.157\n",
      "    Uninstalling botocore-1.29.157:\n",
      "      Successfully uninstalled botocore-1.29.157\n",
      "\u001b[31mERROR: pip's dependency resolver does not currently take into account all the packages that are installed. This behaviour is the source of the following dependency conflicts.\n",
      "awscli 1.27.157 requires botocore==1.29.157, but you have botocore 1.29.162 which is incompatible.\n",
      "awscli 1.27.157 requires PyYAML<5.5,>=3.10, but you have pyyaml 6.0.1 which is incompatible.\u001b[0m\u001b[31m\n",
      "\u001b[0mSuccessfully installed botocore-1.29.162\n",
      "Looking in indexes: https://pypi.org/simple, https://pip.repos.neuron.amazonaws.com\n",
      "Processing ./bedrock-sdk/boto3-1.26.162-py3-none-any.whl\n",
      "Requirement already satisfied: botocore<1.30.0,>=1.29.162 in /home/ec2-user/anaconda3/envs/python3/lib/python3.10/site-packages (from boto3==1.26.162) (1.29.162)\n",
      "Requirement already satisfied: jmespath<2.0.0,>=0.7.1 in /home/ec2-user/anaconda3/envs/python3/lib/python3.10/site-packages (from boto3==1.26.162) (1.0.1)\n",
      "Requirement already satisfied: s3transfer<0.7.0,>=0.6.0 in /home/ec2-user/anaconda3/envs/python3/lib/python3.10/site-packages (from boto3==1.26.162) (0.6.1)\n",
      "Requirement already satisfied: python-dateutil<3.0.0,>=2.1 in /home/ec2-user/anaconda3/envs/python3/lib/python3.10/site-packages (from botocore<1.30.0,>=1.29.162->boto3==1.26.162) (2.8.2)\n",
      "Requirement already satisfied: urllib3<1.27,>=1.25.4 in /home/ec2-user/anaconda3/envs/python3/lib/python3.10/site-packages (from botocore<1.30.0,>=1.29.162->boto3==1.26.162) (1.26.14)\n",
      "Requirement already satisfied: six>=1.5 in /home/ec2-user/anaconda3/envs/python3/lib/python3.10/site-packages (from python-dateutil<3.0.0,>=2.1->botocore<1.30.0,>=1.29.162->boto3==1.26.162) (1.16.0)\n",
      "Installing collected packages: boto3\n",
      "  Attempting uninstall: boto3\n",
      "    Found existing installation: boto3 1.26.157\n",
      "    Uninstalling boto3-1.26.157:\n",
      "      Successfully uninstalled boto3-1.26.157\n",
      "Successfully installed boto3-1.26.162\n",
      "Looking in indexes: https://pypi.org/simple, https://pip.repos.neuron.amazonaws.com\n",
      "Processing ./bedrock-sdk/awscli-1.27.162-py3-none-any.whl\n",
      "Requirement already satisfied: botocore==1.29.162 in /home/ec2-user/anaconda3/envs/python3/lib/python3.10/site-packages (from awscli==1.27.162) (1.29.162)\n",
      "Requirement already satisfied: docutils<0.17,>=0.10 in /home/ec2-user/anaconda3/envs/python3/lib/python3.10/site-packages (from awscli==1.27.162) (0.16)\n",
      "Requirement already satisfied: s3transfer<0.7.0,>=0.6.0 in /home/ec2-user/anaconda3/envs/python3/lib/python3.10/site-packages (from awscli==1.27.162) (0.6.1)\n",
      "Collecting PyYAML<5.5,>=3.10 (from awscli==1.27.162)\n",
      "  Using cached PyYAML-5.4.1-cp310-cp310-linux_x86_64.whl\n",
      "Requirement already satisfied: colorama<0.4.5,>=0.2.5 in /home/ec2-user/anaconda3/envs/python3/lib/python3.10/site-packages (from awscli==1.27.162) (0.4.4)\n",
      "Requirement already satisfied: rsa<4.8,>=3.1.2 in /home/ec2-user/anaconda3/envs/python3/lib/python3.10/site-packages (from awscli==1.27.162) (4.7.2)\n",
      "Requirement already satisfied: jmespath<2.0.0,>=0.7.1 in /home/ec2-user/anaconda3/envs/python3/lib/python3.10/site-packages (from botocore==1.29.162->awscli==1.27.162) (1.0.1)\n",
      "Requirement already satisfied: python-dateutil<3.0.0,>=2.1 in /home/ec2-user/anaconda3/envs/python3/lib/python3.10/site-packages (from botocore==1.29.162->awscli==1.27.162) (2.8.2)\n",
      "Requirement already satisfied: urllib3<1.27,>=1.25.4 in /home/ec2-user/anaconda3/envs/python3/lib/python3.10/site-packages (from botocore==1.29.162->awscli==1.27.162) (1.26.14)\n",
      "Requirement already satisfied: pyasn1>=0.1.3 in /home/ec2-user/anaconda3/envs/python3/lib/python3.10/site-packages (from rsa<4.8,>=3.1.2->awscli==1.27.162) (0.5.0)\n",
      "Requirement already satisfied: six>=1.5 in /home/ec2-user/anaconda3/envs/python3/lib/python3.10/site-packages (from python-dateutil<3.0.0,>=2.1->botocore==1.29.162->awscli==1.27.162) (1.16.0)\n",
      "Installing collected packages: PyYAML, awscli\n",
      "  Attempting uninstall: PyYAML\n",
      "    Found existing installation: PyYAML 6.0.1\n",
      "    Uninstalling PyYAML-6.0.1:\n",
      "      Successfully uninstalled PyYAML-6.0.1\n",
      "  Attempting uninstall: awscli\n",
      "    Found existing installation: awscli 1.27.157\n",
      "    Uninstalling awscli-1.27.157:\n",
      "      Successfully uninstalled awscli-1.27.157\n",
      "\u001b[31mERROR: pip's dependency resolver does not currently take into account all the packages that are installed. This behaviour is the source of the following dependency conflicts.\n",
      "sagemaker 2.173.0 requires PyYAML~=6.0, but you have pyyaml 5.4.1 which is incompatible.\n",
      "sparkmagic 0.20.5 requires nest-asyncio==1.5.5, but you have nest-asyncio 1.5.6 which is incompatible.\n",
      "sparkmagic 0.20.5 requires pandas<2.0.0,>=0.17.1, but you have pandas 2.0.1 which is incompatible.\u001b[0m\u001b[31m\n",
      "\u001b[0mSuccessfully installed PyYAML-5.4.1 awscli-1.27.162\n",
      "Looking in indexes: https://pypi.org/simple, https://pip.repos.neuron.amazonaws.com\n",
      "Collecting langchain\n",
      "  Obtaining dependency information for langchain from https://files.pythonhosted.org/packages/ba/da/c7647835f4cfbee096163d708110b06701ba0dc820285b23896c24b5303e/langchain-0.0.243-py3-none-any.whl.metadata\n",
      "  Downloading langchain-0.0.243-py3-none-any.whl.metadata (14 kB)\n",
      "Requirement already satisfied: PyYAML>=5.4.1 in /home/ec2-user/anaconda3/envs/python3/lib/python3.10/site-packages (from langchain) (5.4.1)\n",
      "Requirement already satisfied: SQLAlchemy<3,>=1.4 in /home/ec2-user/anaconda3/envs/python3/lib/python3.10/site-packages (from langchain) (2.0.12)\n",
      "Requirement already satisfied: aiohttp<4.0.0,>=3.8.3 in /home/ec2-user/anaconda3/envs/python3/lib/python3.10/site-packages (from langchain) (3.8.4)\n",
      "Requirement already satisfied: async-timeout<5.0.0,>=4.0.0 in /home/ec2-user/anaconda3/envs/python3/lib/python3.10/site-packages (from langchain) (4.0.2)\n",
      "Collecting dataclasses-json<0.6.0,>=0.5.7 (from langchain)\n",
      "  Obtaining dependency information for dataclasses-json<0.6.0,>=0.5.7 from https://files.pythonhosted.org/packages/30/85/df2259c0bee64b8c38772c43e849a7c312183d7415934546577614885170/dataclasses_json-0.5.13-py3-none-any.whl.metadata\n",
      "  Downloading dataclasses_json-0.5.13-py3-none-any.whl.metadata (22 kB)\n",
      "Collecting langsmith<0.1.0,>=0.0.11 (from langchain)\n",
      "  Obtaining dependency information for langsmith<0.1.0,>=0.0.11 from https://files.pythonhosted.org/packages/c4/ab/3dca3982889b21a132cad3d54d705db2e7dd5d33cec7f149678166641bab/langsmith-0.0.14-py3-none-any.whl.metadata\n",
      "  Downloading langsmith-0.0.14-py3-none-any.whl.metadata (8.6 kB)\n",
      "Collecting numexpr<3.0.0,>=2.8.4 (from langchain)\n",
      "  Downloading numexpr-2.8.4-cp310-cp310-manylinux_2_17_x86_64.manylinux2014_x86_64.whl (381 kB)\n",
      "\u001b[2K     \u001b[90m━━━━━━━━━━━━━━━━━━━━━━━━━━━━━━━━━━━━━━━\u001b[0m \u001b[32m381.4/381.4 kB\u001b[0m \u001b[31m4.5 MB/s\u001b[0m eta \u001b[36m0:00:00\u001b[0m00:01\u001b[0m\n",
      "\u001b[?25hRequirement already satisfied: numpy<2,>=1 in /home/ec2-user/anaconda3/envs/python3/lib/python3.10/site-packages (from langchain) (1.22.3)\n",
      "Collecting openapi-schema-pydantic<2.0,>=1.2 (from langchain)\n",
      "  Downloading openapi_schema_pydantic-1.2.4-py3-none-any.whl (90 kB)\n",
      "\u001b[2K     \u001b[90m━━━━━━━━━━━━━━━━━━━━━━━━━━━━━━━━━━━━━━━━\u001b[0m \u001b[32m90.0/90.0 kB\u001b[0m \u001b[31m1.3 MB/s\u001b[0m eta \u001b[36m0:00:00\u001b[0mta \u001b[36m0:00:01\u001b[0m\n",
      "\u001b[?25hCollecting pydantic<2,>=1 (from langchain)\n",
      "  Obtaining dependency information for pydantic<2,>=1 from https://files.pythonhosted.org/packages/bc/e0/0371e9b6c910afe502e5fe18cc94562bfd9399617c7b4f5b6e13c29115b3/pydantic-1.10.12-cp310-cp310-manylinux_2_17_x86_64.manylinux2014_x86_64.whl.metadata\n",
      "  Downloading pydantic-1.10.12-cp310-cp310-manylinux_2_17_x86_64.manylinux2014_x86_64.whl.metadata (149 kB)\n",
      "\u001b[2K     \u001b[90m━━━━━━━━━━━━━━━━━━━━━━━━━━━━━━━━━━━━━━\u001b[0m \u001b[32m149.3/149.3 kB\u001b[0m \u001b[31m32.9 MB/s\u001b[0m eta \u001b[36m0:00:00\u001b[0m\n",
      "\u001b[?25hRequirement already satisfied: requests<3,>=2 in /home/ec2-user/anaconda3/envs/python3/lib/python3.10/site-packages (from langchain) (2.29.0)\n",
      "Requirement already satisfied: tenacity<9.0.0,>=8.1.0 in /home/ec2-user/anaconda3/envs/python3/lib/python3.10/site-packages (from langchain) (8.2.2)\n",
      "Requirement already satisfied: attrs>=17.3.0 in /home/ec2-user/anaconda3/envs/python3/lib/python3.10/site-packages (from aiohttp<4.0.0,>=3.8.3->langchain) (23.1.0)\n",
      "Requirement already satisfied: charset-normalizer<4.0,>=2.0 in /home/ec2-user/anaconda3/envs/python3/lib/python3.10/site-packages (from aiohttp<4.0.0,>=3.8.3->langchain) (2.1.1)\n",
      "Requirement already satisfied: multidict<7.0,>=4.5 in /home/ec2-user/anaconda3/envs/python3/lib/python3.10/site-packages (from aiohttp<4.0.0,>=3.8.3->langchain) (6.0.4)\n",
      "Requirement already satisfied: yarl<2.0,>=1.0 in /home/ec2-user/anaconda3/envs/python3/lib/python3.10/site-packages (from aiohttp<4.0.0,>=3.8.3->langchain) (1.9.1)\n",
      "Requirement already satisfied: frozenlist>=1.1.1 in /home/ec2-user/anaconda3/envs/python3/lib/python3.10/site-packages (from aiohttp<4.0.0,>=3.8.3->langchain) (1.3.3)\n",
      "Requirement already satisfied: aiosignal>=1.1.2 in /home/ec2-user/anaconda3/envs/python3/lib/python3.10/site-packages (from aiohttp<4.0.0,>=3.8.3->langchain) (1.3.1)\n",
      "Collecting marshmallow<4.0.0,>=3.18.0 (from dataclasses-json<0.6.0,>=0.5.7->langchain)\n",
      "  Obtaining dependency information for marshmallow<4.0.0,>=3.18.0 from https://files.pythonhosted.org/packages/ed/3c/cebfdcad015240014ff08b883d1c0c427f2ba45ae8c6572851b6ef136cad/marshmallow-3.20.1-py3-none-any.whl.metadata\n",
      "  Downloading marshmallow-3.20.1-py3-none-any.whl.metadata (7.8 kB)\n",
      "Collecting typing-inspect<1,>=0.4.0 (from dataclasses-json<0.6.0,>=0.5.7->langchain)\n",
      "  Obtaining dependency information for typing-inspect<1,>=0.4.0 from https://files.pythonhosted.org/packages/65/f3/107a22063bf27bdccf2024833d3445f4eea42b2e598abfbd46f6a63b6cb0/typing_inspect-0.9.0-py3-none-any.whl.metadata\n",
      "  Downloading typing_inspect-0.9.0-py3-none-any.whl.metadata (1.5 kB)\n",
      "Requirement already satisfied: typing-extensions>=4.2.0 in /home/ec2-user/anaconda3/envs/python3/lib/python3.10/site-packages (from pydantic<2,>=1->langchain) (4.5.0)\n",
      "Requirement already satisfied: idna<4,>=2.5 in /home/ec2-user/anaconda3/envs/python3/lib/python3.10/site-packages (from requests<3,>=2->langchain) (3.4)\n",
      "Requirement already satisfied: urllib3<1.27,>=1.21.1 in /home/ec2-user/anaconda3/envs/python3/lib/python3.10/site-packages (from requests<3,>=2->langchain) (1.26.14)\n",
      "Requirement already satisfied: certifi>=2017.4.17 in /home/ec2-user/anaconda3/envs/python3/lib/python3.10/site-packages (from requests<3,>=2->langchain) (2023.5.7)\n",
      "Requirement already satisfied: greenlet!=0.4.17 in /home/ec2-user/anaconda3/envs/python3/lib/python3.10/site-packages (from SQLAlchemy<3,>=1.4->langchain) (2.0.2)\n",
      "Requirement already satisfied: packaging>=17.0 in /home/ec2-user/anaconda3/envs/python3/lib/python3.10/site-packages (from marshmallow<4.0.0,>=3.18.0->dataclasses-json<0.6.0,>=0.5.7->langchain) (21.3)\n",
      "Requirement already satisfied: mypy-extensions>=0.3.0 in /home/ec2-user/anaconda3/envs/python3/lib/python3.10/site-packages (from typing-inspect<1,>=0.4.0->dataclasses-json<0.6.0,>=0.5.7->langchain) (1.0.0)\n",
      "Requirement already satisfied: pyparsing!=3.0.5,>=2.0.2 in /home/ec2-user/anaconda3/envs/python3/lib/python3.10/site-packages (from packaging>=17.0->marshmallow<4.0.0,>=3.18.0->dataclasses-json<0.6.0,>=0.5.7->langchain) (3.0.9)\n",
      "Downloading langchain-0.0.243-py3-none-any.whl (1.4 MB)\n",
      "\u001b[2K   \u001b[90m━━━━━━━━━━━━━━━━━━━━━━━━━━━━━━━━━━━━━━━━\u001b[0m \u001b[32m1.4/1.4 MB\u001b[0m \u001b[31m21.1 MB/s\u001b[0m eta \u001b[36m0:00:00\u001b[0m:00:01\u001b[0m\n",
      "\u001b[?25hDownloading dataclasses_json-0.5.13-py3-none-any.whl (26 kB)\n",
      "Downloading langsmith-0.0.14-py3-none-any.whl (29 kB)\n",
      "Downloading pydantic-1.10.12-cp310-cp310-manylinux_2_17_x86_64.manylinux2014_x86_64.whl (3.1 MB)\n",
      "\u001b[2K   \u001b[90m━━━━━━━━━━━━━━━━━━━━━━━━━━━━━━━━━━━━━━━━\u001b[0m \u001b[32m3.1/3.1 MB\u001b[0m \u001b[31m35.7 MB/s\u001b[0m eta \u001b[36m0:00:00\u001b[0m:00:01\u001b[0m\n",
      "\u001b[?25hDownloading marshmallow-3.20.1-py3-none-any.whl (49 kB)\n",
      "\u001b[2K   \u001b[90m━━━━━━━━━━━━━━━━━━━━━━━━━━━━━━━━━━━━━━━━\u001b[0m \u001b[32m49.4/49.4 kB\u001b[0m \u001b[31m7.3 MB/s\u001b[0m eta \u001b[36m0:00:00\u001b[0m\n",
      "\u001b[?25hDownloading typing_inspect-0.9.0-py3-none-any.whl (8.8 kB)\n",
      "Installing collected packages: typing-inspect, pydantic, numexpr, openapi-schema-pydantic, marshmallow, langsmith, dataclasses-json, langchain\n",
      "  Attempting uninstall: numexpr\n",
      "    Found existing installation: numexpr 2.7.3\n",
      "    Uninstalling numexpr-2.7.3:\n",
      "      Successfully uninstalled numexpr-2.7.3\n",
      "Successfully installed dataclasses-json-0.5.13 langchain-0.0.243 langsmith-0.0.14 marshmallow-3.20.1 numexpr-2.8.4 openapi-schema-pydantic-1.2.4 pydantic-1.10.12 typing-inspect-0.9.0\n"
     ]
    }
   ],
   "source": [
    "import sys\n",
    "import IPython\n",
    "\n",
    "if install_needed:\n",
    "    print(\"installing deps and restarting kernel\")\n",
    "    !{sys.executable} -m pip install -U pip\n",
    "    !{sys.executable} -m pip install -U sagemaker\n",
    "    !{sys.executable} -m pip install -U ./bedrock-sdk/botocore-1.29.162-py3-none-any.whl\n",
    "    !{sys.executable} -m pip install -U ./bedrock-sdk/boto3-1.26.162-py3-none-any.whl\n",
    "    !{sys.executable} -m pip install -U ./bedrock-sdk/awscli-1.27.162-py3-none-any.whl\n",
    "    !{sys.executable} -m pip install -U langchain\n",
    "    !rm -rf bedrock-sdk\n",
    "\n",
    "    IPython.Application.instance().kernel.do_shutdown(True)"
   ]
  },
  {
   "cell_type": "code",
   "execution_count": 2,
   "id": "56b8d690",
   "metadata": {},
   "outputs": [],
   "source": [
    "import os\n",
    "import sys\n",
    "module_path = \".\"\n",
    "sys.path.append(os.path.abspath(module_path))\n",
    "from utils import bedrock, print_ww"
   ]
  },
  {
   "cell_type": "code",
   "execution_count": 3,
   "id": "8b8a6658",
   "metadata": {},
   "outputs": [],
   "source": [
    "import boto3\n",
    "import langchain"
   ]
  },
  {
   "cell_type": "code",
   "execution_count": 4,
   "id": "839b9df0",
   "metadata": {},
   "outputs": [],
   "source": [
    "bedrock_region = \"us-west-2\" \n",
    "bedrock_config = {\n",
    "    \"region_name\":bedrock_region,\n",
    "    \"endpoint_url\":\"https://prod.us-west-2.frontend.bedrock.aws.dev\"\n",
    "}"
   ]
  },
  {
   "cell_type": "code",
   "execution_count": 5,
   "id": "8899157c",
   "metadata": {},
   "outputs": [
    {
     "name": "stdout",
     "output_type": "stream",
     "text": [
      "Create new client\n",
      "  Using region: us-west-2\n",
      "assumed_role:  None\n",
      "boto3 Bedrock client successfully created!\n",
      "bedrock(https://prod.us-west-2.frontend.bedrock.aws.dev)\n",
      "models:  {'ResponseMetadata': {'RequestId': '2ac2acef-cdae-451c-b084-39f99943d652', 'HTTPStatusCode': 200, 'HTTPHeaders': {'date': 'Wed, 26 Jul 2023 15:52:09 GMT', 'content-type': 'application/json', 'content-length': '256', 'connection': 'keep-alive', 'x-amzn-requestid': '2ac2acef-cdae-451c-b084-39f99943d652'}, 'RetryAttempts': 0}, 'modelSummaries': [{'modelArn': 'arn:aws:bedrock:us-west-2::foundation-model/amazon.titan-tg1-large', 'modelId': 'amazon.titan-tg1-large'}, {'modelArn': 'arn:aws:bedrock:us-west-2::foundation-model/amazon.titan-e1t-medium', 'modelId': 'amazon.titan-e1t-medium'}]}\n"
     ]
    }
   ],
   "source": [
    "boto3_bedrock = bedrock.get_bedrock_client(\n",
    "    region=bedrock_config[\"region_name\"],\n",
    "    url_override=bedrock_config[\"endpoint_url\"])\n",
    "    \n",
    "modelInfo = boto3_bedrock.list_foundation_models()    \n",
    "print('models: ', modelInfo)"
   ]
  },
  {
   "cell_type": "code",
   "execution_count": 6,
   "id": "80a359e7",
   "metadata": {},
   "outputs": [],
   "source": [
    "from langchain.llms.bedrock import Bedrock"
   ]
  },
  {
   "cell_type": "code",
   "execution_count": 7,
   "id": "6023e8e2",
   "metadata": {},
   "outputs": [],
   "source": [
    "modelId = 'amazon.titan-tg1-large'\n",
    "llm = Bedrock(model_id=modelId, client=boto3_bedrock)"
   ]
  },
  {
   "cell_type": "code",
   "execution_count": 8,
   "id": "6175b0f0",
   "metadata": {},
   "outputs": [
    {
     "data": {
      "text/plain": [
       "'\\nThe current President of the United States of America is Joe Biden.'"
      ]
     },
     "execution_count": 8,
     "metadata": {},
     "output_type": "execute_result"
    }
   ],
   "source": [
    "llm('Who is the president of usa?')"
   ]
  },
  {
   "cell_type": "code",
   "execution_count": null,
   "id": "f5042897-adbe-4fd4-8cca-e8efb1de85f2",
   "metadata": {},
   "outputs": [],
   "source": []
  },
  {
   "cell_type": "markdown",
   "id": "31330006-3d3e-4fbd-b408-d87318b1aa71",
   "metadata": {},
   "source": [
    "## Data Preparation"
   ]
  },
  {
   "cell_type": "code",
   "execution_count": 40,
   "id": "fffd2971-d574-49f5-90b8-e18ca43857d2",
   "metadata": {
    "tags": []
   },
   "outputs": [],
   "source": [
    "if install_needed:\n",
    "    !pip install PyPDF2 --quiet"
   ]
  },
  {
   "cell_type": "code",
   "execution_count": 41,
   "id": "660f2084-7f93-4ba8-b43a-d386915d27d9",
   "metadata": {
    "tags": []
   },
   "outputs": [],
   "source": [
    "import PyPDF2\n",
    "from io import BytesIO"
   ]
  },
  {
   "cell_type": "code",
   "execution_count": 42,
   "id": "ebf48bb4-9e67-47d3-87b5-0d52f897fabd",
   "metadata": {
    "tags": []
   },
   "outputs": [],
   "source": [
    "import sagemaker, boto3, json\n",
    "from sagemaker.session import Session"
   ]
  },
  {
   "cell_type": "code",
   "execution_count": 43,
   "id": "fc34c288-f374-4fb1-9362-0de3d1576657",
   "metadata": {
    "tags": []
   },
   "outputs": [],
   "source": [
    "sess = sagemaker.Session()\n",
    "s3_bucket = sess.default_bucket()\n",
    "s3_prefix = 'docs'"
   ]
  },
  {
   "cell_type": "code",
   "execution_count": 46,
   "id": "c8587abe-254c-49db-a7da-5a7a838d725e",
   "metadata": {
    "tags": []
   },
   "outputs": [
    {
     "data": {
      "text/plain": [
       "'sagemaker-ap-northeast-1-677146750822'"
      ]
     },
     "execution_count": 46,
     "metadata": {},
     "output_type": "execute_result"
    }
   ],
   "source": [
    "s3_bucket"
   ]
  },
  {
   "cell_type": "code",
   "execution_count": 47,
   "id": "37f99951-d6e0-408a-bcb8-d53e9b03541e",
   "metadata": {
    "tags": []
   },
   "outputs": [],
   "source": [
    "#s3_file_name = 'sample-blog.pdf'\n",
    "s3_file_name = '2016-3series.pdf'\n",
    "#s3_file_name = 'gen-ai-aws.pdf'"
   ]
  },
  {
   "cell_type": "code",
   "execution_count": 49,
   "id": "0e8ec9a1-6ff3-4409-b762-1b8393f9c1b5",
   "metadata": {
    "tags": []
   },
   "outputs": [],
   "source": [
    "s3r = boto3.resource(\"s3\")\n",
    "doc = s3r.Object(s3_bucket, s3_prefix+'/'+s3_file_name)\n",
    "       \n",
    "contents = doc.get()['Body'].read()\n",
    "reader = PyPDF2.PdfReader(BytesIO(contents))\n",
    "        \n",
    "raw_text = []\n",
    "for page in reader.pages:\n",
    "    raw_text.append(page.extract_text())\n",
    "contents = '\\n'.join(raw_text)  "
   ]
  },
  {
   "cell_type": "code",
   "execution_count": 50,
   "id": "0d69c610-f833-48c0-8828-4ead39633655",
   "metadata": {
    "tags": []
   },
   "outputs": [],
   "source": [
    "#new_contents = str(contents[:8000]).replace(\"\\n\",\" \") \n",
    "new_contents = str(contents).replace(\"\\n\",\" \") \n",
    "\n",
    "#print('new_contents: ', new_contents)"
   ]
  },
  {
   "cell_type": "code",
   "execution_count": 115,
   "id": "c4c162f3-0531-46b8-af82-d65572adff09",
   "metadata": {},
   "outputs": [],
   "source": [
    "from langchain.text_splitter import CharacterTextSplitter\n",
    "from langchain.text_splitter import RecursiveCharacterTextSplitter\n",
    "\n",
    "text_splitter = RecursiveCharacterTextSplitter(chunk_size=5000,chunk_overlap=0)\n",
    "texts = text_splitter.split_text(new_contents) "
   ]
  },
  {
   "cell_type": "code",
   "execution_count": 116,
   "id": "6656c795-b8e4-410c-8227-2fd0581bd925",
   "metadata": {
    "tags": []
   },
   "outputs": [
    {
     "data": {
      "text/plain": [
       "\"Owner's Manual for Vehicle The Ultimate Driving Machine® THE BMW 3 SERIES SEDAN. OWNER'S MANUAL. Contents A-Z Online Edition for Part no. 01 40 2 960 440 - II/15  3 Series Owner's Manual for Vehicle Thank you for choosing a BMW. The more familiar you are with your vehicle, the better control you will have on the road. We therefore strongly suggest: Read this Owner's Manual before starting off in your new BMW. Also use the Integrated Owner's Manual in your vehicle. It con‐ tains important information on vehicle operation that will help you make full use of the technical features available in your BMW. The manual also contains information designed to en‐ hance operating reliability and road safety, and to contribute to maintaining the value of your BMW. Any updates made after the editorial deadline for the printed or Integrated Owner's Manual are found in the appendix of the printed Quick Reference for the vehicle. Supplementary information can be found in the additional bro‐ chures in the onboard literature. We wish you a safe and enjoyable ride. BMW AG   The Owner's Manual is available in many countries as an app. Additional information on the Internet: www.bmw.com/bmw_drivers_guide Online Edition for Part no. 01 40 2 960 440 - II/15 © 2015 Bayerische Motoren Werke Aktiengesellschaft Munich, Germany Reprinting, including excerpts, only with the written consent of BMW AG, Munich. US English II/15, 03 15 490 Printed on environmentally friendly paper, bleached without chlorine, suitable for recycling. Online Edition for Part no. 01 40 2 960 440 - II/15 Addendum ADDENDUM TO OWNER'S MANUAL We wanted to provide you with some updates  and clarifications with respect to the printed  BMW Owner's Manual. These updates and  clarifications will supersede the materials con- tained in that document.  1.Where the terms “service center,” “the ser- vice center,” “your service center,” “service  specialist,” or “service” are used in the  Owner's Manual, we wanted to clarify that  the terms refer to a BMW dealer's service  center or another service center or repair  shop that employs trained personnel that  can perform maintenance and repair work  on your vehicle in accordance with BMW  specifications.  2.Where the text of the Owner's Manual con- tains an affirmative instruction to contact a  “service center” or “your service center,”  we wanted to clarify that BMW recom- mends that, if you are faced with one of the  situations addressed by that text, you con- tact or seek the assistance of a BMW  dealer's service center or another service  center or repair shop that employs trained  personnel that can perform maintenance  and repair work on your vehicle in accor- dance with BMW specifications.  While BMW of North America LLC, at no  cost to you, will pay for repairs required by  the limited warranties provided with respect  to your vehicle and for maintenance under  the Maintenance Program during the appli- cable warranty and maintenance coverage  periods, you are free to elect, both during  those periods and thereafter, to have main- tenance and repair work provided by other  service centers or repair shops. 3.Where the Owner's Manual makes refer- ence to parts and accessories having been  approved by BMW, those references are  intended to reflect that those parts and  accessories are recommended by BMW of  North America LLC. You may elect to use  other parts and accessories, but, if you do, we recommend that you make sure that any  such parts and/or accessories are appropri- ate for use on your vehicle. 4.At page 7, under the warranty section's dis- cussion of homologation, where it states  that you “cannot lodge warranty claims for  your vehicle there,” the text should read  that you “may not be able to lodge warranty  claims for your vehicle there.”  5.At page 7, under the “Parts and accesso- ries” section, in the sixth sentence, the  word “cannot” should read “does not.” 6.At page 54, in the “Check and replace  safety belts” section, the text beginning,  “This should only be done by your service  center …” should be disregarded and the  following text should be read in lieu thereof:  “BMW recommends having this work per- formed by a service center as it is important  that this safety feature functions properly.” 7.At page 91, under the heading: \\xa0 “Special  windshield,” the paragraph beginning,  “Therefore, have the special windshield …”  should be disregarded and the following  text should be read in lieu thereof: \\xa0 “BMW  recommends that you have the special  windshield replaced by the service center.” 8.At page 168 under the heading: “Objects  within the range of movement of the ped- als” and at page 232 under the heading:  “Carpets and floor mats,” the paragraph  that begins: “Only use floor mats …” should  be disregarded and the following language  should be read in lieu thereof: “The manu- facturer of your vehicle recommends that  you use floor mats that have been identified  by it as appropriate for use in your\""
      ]
     },
     "execution_count": 116,
     "metadata": {},
     "output_type": "execute_result"
    }
   ],
   "source": [
    "texts[0]"
   ]
  },
  {
   "cell_type": "markdown",
   "id": "71259269-194f-43cb-b2ce-7c061c37b667",
   "metadata": {},
   "source": [
    "### 택스트를 Kendra로 보내기 \n",
    "Kendra에 데이터 전송시 docment는 10개이내로 보낼수 있음.  Member must have length less than or equal to 10"
   ]
  },
  {
   "cell_type": "code",
   "execution_count": 117,
   "id": "628250f4-714b-4b09-83d0-ce54c22c6b47",
   "metadata": {
    "tags": []
   },
   "outputs": [],
   "source": [
    "requestId = \"a123456\""
   ]
  },
  {
   "cell_type": "code",
   "execution_count": 128,
   "id": "34a4e025-dfca-4d4e-98b2-709a15574465",
   "metadata": {
    "tags": []
   },
   "outputs": [],
   "source": [
    "kendra = boto3.client(\"kendra\")"
   ]
  },
  {
   "cell_type": "code",
   "execution_count": 156,
   "id": "2d5024c4-7007-457d-937f-3ed947ed1e3e",
   "metadata": {
    "tags": []
   },
   "outputs": [],
   "source": [
    "kendraIndex = \"50a29d7f-f091-4340-a2cd-fa62f4752e92\";"
   ]
  },
  {
   "cell_type": "code",
   "execution_count": 191,
   "id": "ef991d8d-ea24-4ca2-b408-938d78790e17",
   "metadata": {
    "tags": []
   },
   "outputs": [],
   "source": [
    "documents = []"
   ]
  },
  {
   "cell_type": "code",
   "execution_count": 192,
   "id": "90caf60c-8cc1-4e45-8712-9a2861fd18ae",
   "metadata": {
    "tags": []
   },
   "outputs": [],
   "source": [
    "index = 0\n",
    "for t in texts[:10]:\n",
    "    documents.append({\n",
    "        \"Id\": requestId+'_'+str(index),\n",
    "        \"Blob\": t,\n",
    "        \"ContentType\": \"PLAIN_TEXT\",\n",
    "    })\n",
    "    index = index+1"
   ]
  },
  {
   "cell_type": "code",
   "execution_count": 193,
   "id": "79c29ecd-1243-419f-9c6e-22d04e5a8b4c",
   "metadata": {
    "tags": []
   },
   "outputs": [
    {
     "name": "stdout",
     "output_type": "stream",
     "text": [
      "{'FailedDocuments': [], 'ResponseMetadata': {'RequestId': 'eb10d8a8-5bf8-488c-80a1-4c87bdc1162a', 'HTTPStatusCode': 200, 'HTTPHeaders': {'x-amzn-requestid': 'eb10d8a8-5bf8-488c-80a1-4c87bdc1162a', 'content-type': 'application/x-amz-json-1.1', 'content-length': '22', 'date': 'Wed, 26 Jul 2023 23:06:56 GMT'}, 'RetryAttempts': 0}}\n"
     ]
    }
   ],
   "source": [
    "result = kendra.batch_put_document(\n",
    "    IndexId = kendraIndex,\n",
    "    Documents = documents\n",
    ")\n",
    "\n",
    "print(result)"
   ]
  },
  {
   "cell_type": "code",
   "execution_count": null,
   "id": "0166d219-2c8f-407e-9338-c21e5a733ab0",
   "metadata": {},
   "outputs": [],
   "source": []
  },
  {
   "cell_type": "markdown",
   "id": "1c4da88d-b10c-4877-86b9-0c76e8598a90",
   "metadata": {},
   "source": [
    "### S3 Object를 Kendra로 보내기"
   ]
  },
  {
   "cell_type": "code",
   "execution_count": 217,
   "id": "c3b4aec2-8cb7-4d1d-a0c5-ee7866ee0b12",
   "metadata": {
    "tags": []
   },
   "outputs": [],
   "source": [
    "doc_document = {\n",
    "    \"S3Path\": {\n",
    "        \"Bucket\": s3_bucket,\n",
    "        \"Key\": s3_prefix+'/'+s3_file_name\n",
    "    },\n",
    "    \"Title\": \"Document from client\",\n",
    "    \"Id\": requestId\n",
    "}"
   ]
  },
  {
   "cell_type": "code",
   "execution_count": 218,
   "id": "02198a62-e492-4ad6-a69e-a85a306d25c9",
   "metadata": {
    "tags": []
   },
   "outputs": [],
   "source": [
    "documents = [\n",
    "    doc_document\n",
    "]"
   ]
  },
  {
   "cell_type": "code",
   "execution_count": 219,
   "id": "cd19689d-e568-41b6-93ce-e2501d5ebe42",
   "metadata": {
    "tags": []
   },
   "outputs": [],
   "source": [
    "result = kendra.batch_put_document(\n",
    "    Documents = documents,\n",
    "    IndexId = kendraIndex,\n",
    "    RoleArn = \"arn:aws:iam::677146750822:role/service-role/AmazonSageMakerServiceCatalogProductsUseRole\"\n",
    ")"
   ]
  },
  {
   "cell_type": "code",
   "execution_count": 220,
   "id": "2c6f7932-1690-4d63-a1d8-419c1f47fb0c",
   "metadata": {
    "tags": []
   },
   "outputs": [
    {
     "name": "stdout",
     "output_type": "stream",
     "text": [
      "{'FailedDocuments': [], 'ResponseMetadata': {'RequestId': 'f2de5b31-efab-4912-b9e6-0371743b9220', 'HTTPStatusCode': 200, 'HTTPHeaders': {'x-amzn-requestid': 'f2de5b31-efab-4912-b9e6-0371743b9220', 'content-type': 'application/x-amz-json-1.1', 'content-length': '22', 'date': 'Thu, 27 Jul 2023 00:12:29 GMT'}, 'RetryAttempts': 0}}\n"
     ]
    }
   ],
   "source": [
    "print(result)"
   ]
  },
  {
   "cell_type": "code",
   "execution_count": null,
   "id": "c9075172-a2f5-437b-8a01-9e71abd00273",
   "metadata": {},
   "outputs": [],
   "source": []
  },
  {
   "cell_type": "code",
   "execution_count": null,
   "id": "c7622eb2-4892-425d-ad03-66ed8382baa9",
   "metadata": {},
   "outputs": [],
   "source": []
  },
  {
   "cell_type": "markdown",
   "id": "09541ca5-6684-4574-ba9d-98fb3a59daae",
   "metadata": {},
   "source": [
    "## Kendra"
   ]
  },
  {
   "cell_type": "code",
   "execution_count": 33,
   "id": "b25712a7",
   "metadata": {},
   "outputs": [],
   "source": [
    "import boto3\n",
    "from langchain.retrievers import AmazonKendraRetriever"
   ]
  },
  {
   "cell_type": "code",
   "execution_count": 34,
   "id": "8ea546e0",
   "metadata": {},
   "outputs": [],
   "source": [
    "kendraIndex = \"50a29d7f-f091-4340-a2cd-fa62f4752e92\""
   ]
  },
  {
   "cell_type": "code",
   "execution_count": 73,
   "id": "4e96be2d",
   "metadata": {},
   "outputs": [],
   "source": [
    "retriever = AmazonKendraRetriever(index_id=kendraIndex)"
   ]
  },
  {
   "cell_type": "code",
   "execution_count": 78,
   "id": "d4c70389-4214-46af-b0a1-8873df3cb9ad",
   "metadata": {
    "tags": []
   },
   "outputs": [],
   "source": [
    "query = \"tell me the manual\""
   ]
  },
  {
   "cell_type": "code",
   "execution_count": 99,
   "id": "b1976b7b-2270-47e2-b28e-a77c10207c6d",
   "metadata": {
    "tags": []
   },
   "outputs": [],
   "source": [
    "query = \"tell me about kyoungsu\""
   ]
  },
  {
   "cell_type": "code",
   "execution_count": 205,
   "id": "752d17e6",
   "metadata": {},
   "outputs": [],
   "source": [
    "relevant_documents = retriever.get_relevant_documents(query)"
   ]
  },
  {
   "cell_type": "code",
   "execution_count": 206,
   "id": "032bbc08-c26e-4e46-a052-d8c38dbaa5b6",
   "metadata": {
    "tags": []
   },
   "outputs": [
    {
     "data": {
      "text/plain": [
       "3"
      ]
     },
     "execution_count": 206,
     "metadata": {},
     "output_type": "execute_result"
    }
   ],
   "source": [
    "len(relevant_documents)"
   ]
  },
  {
   "cell_type": "code",
   "execution_count": 207,
   "id": "cdbfdafc-2044-4eb1-9fd4-039c41c44679",
   "metadata": {
    "tags": []
   },
   "outputs": [
    {
     "name": "stdout",
     "output_type": "stream",
     "text": [
      "3 documents are fetched which are relevant to the query.\n",
      "----\n",
      "## Document 1: Document Title: Document from client\n",
      "Document Excerpt:\n",
      "The vehicle identification number can also be found behind the windshield. Reporting safety defects\n",
      "For US customers The following only applies to vehicles owned and operated in the US. If you believe\n",
      "that your vehicle has a defect which could cause a crash or could cause in‐ jury or death, you\n",
      "should immediately inform the National Highway Traffic Safety Adminis‐ tration NHTSA, in addition to\n",
      "notifying BMW of North America, LLC, P.O. Box 1227, West‐ Seite 9 Notes 9 Online Edition for Part\n",
      "no. 01 40 2 960 440 - II/15 wood, New Jersey 07675-1227, Telephone 1-800-831-1117. If NHTSA receives\n",
      "similar complaints, it may open an investigation, and if it finds that a safety defect exists in a\n",
      "group of vehicles, it may order a recall and remedy campaign. However, NHTSA cannot become involved\n",
      "in individual problems between you, your dealer, or BMW of North America, LLC. To contact NHTSA, you\n",
      "may call the Vehicle Safety Hotline toll-free at 1-888-327-4236 (TTY: 1-800-424-9153); go to http://\n",
      "www.safercar.gov; or write to: Administrator, NHTSA, 400 Seventh Street, SW., Washing‐ ton, DC\n",
      "20590.\n",
      ".......\n",
      "---\n",
      "## Document 2: Document Excerpt:\n",
      "Vehicle identification number The vehicle identification number can be found in the engine\n",
      "compartment. The vehicle identification number can also be found behind the windshield. Reporting\n",
      "safety defects For US customers The following only applies to vehicles owned and operated in the US.\n",
      "If you believe that your vehicle has a defect which could cause a crash or could cause in‐ jury or\n",
      "death, you should immediately inform the National Highway Traffic Safety Adminis‐ tration NHTSA, in\n",
      "addition to notifying BMW of North America, LLC, P.O. Box 1227, West‐Seite 9 Notes 9 Online Edition\n",
      "for Part no. If you believe that your vehicle has a defect which could cause a crash or could cause\n",
      "in‐ jury or death, you should immediately inform the National Highway Traffic Safety Adminis‐\n",
      "tration NHTSA, in addition to notifying BMW of North America, LLC, P.O. Box 1227, West‐Seite 9 Notes\n",
      "9 Online Edition for Part no. 01 40 2 960 440 - II/15 wood, New Jersey 07675-1227, Telephone\n",
      "1-800-831-1117. If NHTSA receives similar complaints, it may open an investigation, and if it finds\n",
      "that a safety defect exists in a group of vehicles, it may order a recall and remedy campaign. 01 40\n",
      "2 960 440 - II/15 wood, New Jersey 07675-1227, Telephone 1-800-831-1117. However, NHTSA cannot\n",
      "become involved in individual problems between you, your dealer, or BMW of North America, LLC. To\n",
      "contact NHTSA, you may call the Vehicle Safety Hotline toll-free at 1-888-327-4236 (TTY:\n",
      "1-800-424-9153); go to http:// www.safercar.gov; or write to: Administrator, NHTSA, 400 Seventh\n",
      "Street, SW., Washing‐ ton, DC 20590.\n",
      ".......\n",
      "---\n",
      "## Document 3: Document Title: Document from client\n",
      "Document Excerpt:\n",
      "\"Settings\" 2. \"Language/Units\" 3. \"Speech type:\" 4. Select setting. Adjusting the volume Turn the\n",
      "volume button while giving an in‐ struction until the desired volume is set. ▷ The volume remains\n",
      "constant even if the volume of other audio sources is changed. ▷ The volume is stored for the\n",
      "profile cur‐ rently in use. Hints on Emergency Requests Do not use the voice activation system to\n",
      "ini‐ tiate an Emergency Request. In stressful situa‐ tions, the voice and vocal pitch can change.\n",
      "Seite 28 At a glance Voice activation system 28 Online Edition for Part no. Online Edition for Part\n",
      "no. 01 40 2 960 440 - II/15 This can unnecessarily delay the establish‐ ment of a phone connection.\n",
      "Instead, use the SOS button, refer to page 223, close to the interior mirror. Environmental\n",
      "conditions ▷ Say the commands, numbers, and letters smoothly and with normal volume, empha‐ sis, and\n",
      "speed. 01 40 2 960 440 - II/15 ▷ Always say commands in the language of the voice activation system.\n",
      "▷ Keep the doors, windows, and glass sun‐ roof closed to prevent noise interference. ▷ Avoid making\n",
      "other noise in the vehicle while speaking.\n",
      ".......\n",
      "---\n"
     ]
    }
   ],
   "source": [
    "print(f'{len(relevant_documents)} documents are fetched which are relevant to the query.')\n",
    "print('----')\n",
    "for i, rel_doc in enumerate(relevant_documents):\n",
    "    print_ww(f'## Document {i+1}: {rel_doc.page_content}.......')\n",
    "    print('---')"
   ]
  },
  {
   "cell_type": "code",
   "execution_count": null,
   "id": "6ecb3f45-d810-4a8e-a282-5d2dbe4f4ff9",
   "metadata": {},
   "outputs": [],
   "source": []
  },
  {
   "cell_type": "code",
   "execution_count": null,
   "id": "1f195a42-6485-4d6c-bcaa-0aa5760d370f",
   "metadata": {},
   "outputs": [],
   "source": []
  },
  {
   "cell_type": "code",
   "execution_count": null,
   "id": "9e9728c8-b509-41cf-8cac-faf8b036ee97",
   "metadata": {},
   "outputs": [],
   "source": []
  },
  {
   "cell_type": "markdown",
   "id": "4767b601",
   "metadata": {},
   "source": [
    "### Customisable option"
   ]
  },
  {
   "cell_type": "code",
   "execution_count": 208,
   "id": "becde13a",
   "metadata": {},
   "outputs": [],
   "source": [
    "from langchain.prompts import PromptTemplate\n",
    "\n",
    "prompt_template = \"\"\"Human: Use the following pieces of context to provide a concise answer to the question at the end. If you don't know the answer, just say that you don't know, don't try to make up an answer.\n",
    "\n",
    "{context}\n",
    "\n",
    "Question: {question}\n",
    "Assistant:\"\"\"\n",
    "PROMPT = PromptTemplate(\n",
    "    template=prompt_template, input_variables=[\"context\", \"question\"]\n",
    ")"
   ]
  },
  {
   "cell_type": "code",
   "execution_count": 209,
   "id": "fc2f91d6",
   "metadata": {},
   "outputs": [],
   "source": [
    "from langchain.chains import RetrievalQA\n",
    "\n",
    "qa = RetrievalQA.from_chain_type(\n",
    "    llm=llm,\n",
    "    chain_type=\"stuff\",\n",
    "    retriever=retriever,\n",
    "    return_source_documents=True,\n",
    "    chain_type_kwargs={\"prompt\": PROMPT}\n",
    ")"
   ]
  },
  {
   "cell_type": "code",
   "execution_count": 216,
   "id": "b02ebf5b-1b00-426a-9f45-ba3c99629170",
   "metadata": {
    "tags": []
   },
   "outputs": [
    {
     "data": {
      "text/plain": [
       "'tell me about kyoungsu'"
      ]
     },
     "execution_count": 216,
     "metadata": {},
     "output_type": "execute_result"
    }
   ],
   "source": [
    "query"
   ]
  },
  {
   "cell_type": "code",
   "execution_count": 210,
   "id": "ac605fa8",
   "metadata": {},
   "outputs": [
    {
     "name": "stdout",
     "output_type": "stream",
     "text": [
      "result:  {'query': 'tell me about kyoungsu', 'result': \" Yes, he's my friend. He's from Korea. He's in the same class as me.\\n\", 'source_documents': [Document(page_content='Document Title: Document from client\\nDocument Excerpt: \\nThe vehicle identification number can also be found behind the windshield. Reporting safety defects For US customers The following only applies to vehicles owned and operated in the US. If you believe that your vehicle has a defect which could cause a crash or could cause in‐ jury or death, you should immediately inform the National Highway Traffic Safety Adminis‐ tration NHTSA, in addition to notifying BMW of North America, LLC, P.O. Box 1227, West‐ Seite 9 Notes 9 Online Edition for Part no. 01 40 2 960 440 - II/15 wood, New Jersey 07675-1227, Telephone 1-800-831-1117. If NHTSA receives similar complaints, it may open an investigation, and if it finds that a safety defect exists in a group of vehicles, it may order a recall and remedy campaign. However, NHTSA cannot become involved in individual problems between you, your dealer, or BMW of North America, LLC. To contact NHTSA, you may call the Vehicle Safety Hotline toll-free at 1-888-327-4236 (TTY: 1-800-424-9153); go to http:// www.safercar.gov; or write to: Administrator, NHTSA, 400 Seventh Street, SW., Washing‐ ton, DC 20590.\\n', metadata={'source': '', 'title': 'Document from client', 'excerpt': 'The vehicle identification number can also be found behind the windshield. Reporting safety defects For US customers The following only applies to vehicles owned and operated in the US. If you believe that your vehicle has a defect which could cause a crash or could cause in‐ jury or death, you should immediately inform the National Highway Traffic Safety Adminis‐ tration NHTSA, in addition to notifying BMW of North America, LLC, P.O. Box 1227, West‐ Seite 9 Notes 9 Online Edition for Part no. 01 40 2 960 440 - II/15 wood, New Jersey 07675-1227, Telephone 1-800-831-1117. If NHTSA receives similar complaints, it may open an investigation, and if it finds that a safety defect exists in a group of vehicles, it may order a recall and remedy campaign. However, NHTSA cannot become involved in individual problems between you, your dealer, or BMW of North America, LLC. To contact NHTSA, you may call the Vehicle Safety Hotline toll-free at 1-888-327-4236 (TTY: 1-800-424-9153); go to http:// www.safercar.gov; or write to: Administrator, NHTSA, 400 Seventh Street, SW., Washing‐ ton, DC 20590.', 'document_attributes': {}}), Document(page_content='Document Excerpt: \\nVehicle identification number The vehicle identification number can be found in the engine compartment. The vehicle identification number can also be found behind the windshield. Reporting safety defects For US customers The following only applies to vehicles owned and operated in the US. If you believe that your vehicle has a defect which could cause a crash or could cause in‐ jury or death, you should immediately inform the National Highway Traffic Safety Adminis‐ tration NHTSA, in addition to notifying BMW of North America, LLC, P.O. Box 1227, West‐Seite 9 Notes 9 Online Edition for Part no. If you believe that your vehicle has a defect which could cause a crash or could cause in‐ jury or death, you should immediately inform the National Highway Traffic Safety Adminis‐ tration NHTSA, in addition to notifying BMW of North America, LLC, P.O. Box 1227, West‐Seite 9 Notes 9 Online Edition for Part no. 01 40 2 960 440 - II/15 wood, New Jersey 07675-1227, Telephone 1-800-831-1117. If NHTSA receives similar complaints, it may open an investigation, and if it finds that a safety defect exists in a group of vehicles, it may order a recall and remedy campaign. 01 40 2 960 440 - II/15 wood, New Jersey 07675-1227, Telephone 1-800-831-1117. However, NHTSA cannot become involved in individual problems between you, your dealer, or BMW of North America, LLC. To contact NHTSA, you may call the Vehicle Safety Hotline toll-free at 1-888-327-4236 (TTY: 1-800-424-9153); go to http:// www.safercar.gov; or write to: Administrator, NHTSA, 400 Seventh Street, SW., Washing‐ ton, DC 20590.\\n', metadata={'source': '', 'title': '', 'excerpt': 'Vehicle identification number The vehicle identification number can be found in the engine compartment. The vehicle identification number can also be found behind the windshield. Reporting safety defects For US customers The following only applies to vehicles owned and operated in the US. If you believe that your vehicle has a defect which could cause a crash or could cause in‐ jury or death, you should immediately inform the National Highway Traffic Safety Adminis‐ tration NHTSA, in addition to notifying BMW of North America, LLC, P.O. Box 1227, West‐Seite 9 Notes 9 Online Edition for Part no. If you believe that your vehicle has a defect which could cause a crash or could cause in‐ jury or death, you should immediately inform the National Highway Traffic Safety Adminis‐ tration NHTSA, in addition to notifying BMW of North America, LLC, P.O. Box 1227, West‐Seite 9 Notes 9 Online Edition for Part no. 01 40 2 960 440 - II/15 wood, New Jersey 07675-1227, Telephone 1-800-831-1117. If NHTSA receives similar complaints, it may open an investigation, and if it finds that a safety defect exists in a group of vehicles, it may order a recall and remedy campaign. 01 40 2 960 440 - II/15 wood, New Jersey 07675-1227, Telephone 1-800-831-1117. However, NHTSA cannot become involved in individual problems between you, your dealer, or BMW of North America, LLC. To contact NHTSA, you may call the Vehicle Safety Hotline toll-free at 1-888-327-4236 (TTY: 1-800-424-9153); go to http:// www.safercar.gov; or write to: Administrator, NHTSA, 400 Seventh Street, SW., Washing‐ ton, DC 20590.', 'document_attributes': {}}), Document(page_content='Document Title: Document from client\\nDocument Excerpt: \\n\"Settings\" 2. \"Language/Units\" 3. \"Speech type:\" 4. Select setting. Adjusting the volume Turn the volume button while giving an in‐ struction until the desired volume is set. ▷ The volume remains constant even if the volume of other audio sources is changed. ▷ The volume is stored for the profile cur‐ rently in use. Hints on Emergency Requests Do not use the voice activation system to ini‐ tiate an Emergency Request. In stressful situa‐ tions, the voice and vocal pitch can change. Seite 28 At a glance Voice activation system 28 Online Edition for Part no. Online Edition for Part no. 01 40 2 960 440 - II/15 This can unnecessarily delay the establish‐ ment of a phone connection. Instead, use the SOS button, refer to page 223, close to the interior mirror. Environmental conditions ▷ Say the commands, numbers, and letters smoothly and with normal volume, empha‐ sis, and speed. 01 40 2 960 440 - II/15 ▷ Always say commands in the language of the voice activation system. ▷ Keep the doors, windows, and glass sun‐ roof closed to prevent noise interference. ▷ Avoid making other noise in the vehicle while speaking.\\n', metadata={'source': '', 'title': 'Document from client', 'excerpt': '\"Settings\" 2. \"Language/Units\" 3. \"Speech type:\" 4. Select setting. Adjusting the volume Turn the volume button while giving an in‐ struction until the desired volume is set. ▷ The volume remains constant even if the volume of other audio sources is changed. ▷ The volume is stored for the profile cur‐ rently in use. Hints on Emergency Requests Do not use the voice activation system to ini‐ tiate an Emergency Request. In stressful situa‐ tions, the voice and vocal pitch can change. Seite 28 At a glance Voice activation system 28 Online Edition for Part no. Online Edition for Part no. 01 40 2 960 440 - II/15 This can unnecessarily delay the establish‐ ment of a phone connection. Instead, use the SOS button, refer to page 223, close to the interior mirror. Environmental conditions ▷ Say the commands, numbers, and letters smoothly and with normal volume, empha‐ sis, and speed. 01 40 2 960 440 - II/15 ▷ Always say commands in the language of the voice activation system. ▷ Keep the doors, windows, and glass sun‐ roof closed to prevent noise interference. ▷ Avoid making other noise in the vehicle while speaking.', 'document_attributes': {}})]}\n"
     ]
    }
   ],
   "source": [
    "result = qa({\"query\": query})\n",
    "print('result: ', result)"
   ]
  },
  {
   "cell_type": "code",
   "execution_count": null,
   "id": "6fc2e828-fafa-42a9-88fb-3f24caac2dd1",
   "metadata": {},
   "outputs": [],
   "source": []
  },
  {
   "cell_type": "code",
   "execution_count": 211,
   "id": "2cdfb864",
   "metadata": {},
   "outputs": [
    {
     "name": "stdout",
     "output_type": "stream",
     "text": [
      "[Document(page_content='Document Title: Document from client\\nDocument Excerpt: \\nThe vehicle identification number can also be found behind the windshield. Reporting safety defects For US customers The following only applies to vehicles owned and operated in the US. If you believe that your vehicle has a defect which could cause a crash or could cause in‐ jury or death, you should immediately inform the National Highway Traffic Safety Adminis‐ tration NHTSA, in addition to notifying BMW of North America, LLC, P.O. Box 1227, West‐ Seite 9 Notes 9 Online Edition for Part no. 01 40 2 960 440 - II/15 wood, New Jersey 07675-1227, Telephone 1-800-831-1117. If NHTSA receives similar complaints, it may open an investigation, and if it finds that a safety defect exists in a group of vehicles, it may order a recall and remedy campaign. However, NHTSA cannot become involved in individual problems between you, your dealer, or BMW of North America, LLC. To contact NHTSA, you may call the Vehicle Safety Hotline toll-free at 1-888-327-4236 (TTY: 1-800-424-9153); go to http:// www.safercar.gov; or write to: Administrator, NHTSA, 400 Seventh Street, SW., Washing‐ ton, DC 20590.\\n', metadata={'source': '', 'title': 'Document from client', 'excerpt': 'The vehicle identification number can also be found behind the windshield. Reporting safety defects For US customers The following only applies to vehicles owned and operated in the US. If you believe that your vehicle has a defect which could cause a crash or could cause in‐ jury or death, you should immediately inform the National Highway Traffic Safety Adminis‐ tration NHTSA, in addition to notifying BMW of North America, LLC, P.O. Box 1227, West‐ Seite 9 Notes 9 Online Edition for Part no. 01 40 2 960 440 - II/15 wood, New Jersey 07675-1227, Telephone 1-800-831-1117. If NHTSA receives similar complaints, it may open an investigation, and if it finds that a safety defect exists in a group of vehicles, it may order a recall and remedy campaign. However, NHTSA cannot become involved in individual problems between you, your dealer, or BMW of North America, LLC. To contact NHTSA, you may call the Vehicle Safety Hotline toll-free at 1-888-327-4236 (TTY: 1-800-424-9153); go to http:// www.safercar.gov; or write to: Administrator, NHTSA, 400 Seventh Street, SW., Washing‐ ton, DC 20590.', 'document_attributes': {}}), Document(page_content='Document Excerpt: \\nVehicle identification number The vehicle identification number can be found in the engine compartment. The vehicle identification number can also be found behind the windshield. Reporting safety defects For US customers The following only applies to vehicles owned and operated in the US. If you believe that your vehicle has a defect which could cause a crash or could cause in‐ jury or death, you should immediately inform the National Highway Traffic Safety Adminis‐ tration NHTSA, in addition to notifying BMW of North America, LLC, P.O. Box 1227, West‐Seite 9 Notes 9 Online Edition for Part no. If you believe that your vehicle has a defect which could cause a crash or could cause in‐ jury or death, you should immediately inform the National Highway Traffic Safety Adminis‐ tration NHTSA, in addition to notifying BMW of North America, LLC, P.O. Box 1227, West‐Seite 9 Notes 9 Online Edition for Part no. 01 40 2 960 440 - II/15 wood, New Jersey 07675-1227, Telephone 1-800-831-1117. If NHTSA receives similar complaints, it may open an investigation, and if it finds that a safety defect exists in a group of vehicles, it may order a recall and remedy campaign. 01 40 2 960 440 - II/15 wood, New Jersey 07675-1227, Telephone 1-800-831-1117. However, NHTSA cannot become involved in individual problems between you, your dealer, or BMW of North America, LLC. To contact NHTSA, you may call the Vehicle Safety Hotline toll-free at 1-888-327-4236 (TTY: 1-800-424-9153); go to http:// www.safercar.gov; or write to: Administrator, NHTSA, 400 Seventh Street, SW., Washing‐ ton, DC 20590.\\n', metadata={'source': '', 'title': '', 'excerpt': 'Vehicle identification number The vehicle identification number can be found in the engine compartment. The vehicle identification number can also be found behind the windshield. Reporting safety defects For US customers The following only applies to vehicles owned and operated in the US. If you believe that your vehicle has a defect which could cause a crash or could cause in‐ jury or death, you should immediately inform the National Highway Traffic Safety Adminis‐ tration NHTSA, in addition to notifying BMW of North America, LLC, P.O. Box 1227, West‐Seite 9 Notes 9 Online Edition for Part no. If you believe that your vehicle has a defect which could cause a crash or could cause in‐ jury or death, you should immediately inform the National Highway Traffic Safety Adminis‐ tration NHTSA, in addition to notifying BMW of North America, LLC, P.O. Box 1227, West‐Seite 9 Notes 9 Online Edition for Part no. 01 40 2 960 440 - II/15 wood, New Jersey 07675-1227, Telephone 1-800-831-1117. If NHTSA receives similar complaints, it may open an investigation, and if it finds that a safety defect exists in a group of vehicles, it may order a recall and remedy campaign. 01 40 2 960 440 - II/15 wood, New Jersey 07675-1227, Telephone 1-800-831-1117. However, NHTSA cannot become involved in individual problems between you, your dealer, or BMW of North America, LLC. To contact NHTSA, you may call the Vehicle Safety Hotline toll-free at 1-888-327-4236 (TTY: 1-800-424-9153); go to http:// www.safercar.gov; or write to: Administrator, NHTSA, 400 Seventh Street, SW., Washing‐ ton, DC 20590.', 'document_attributes': {}}), Document(page_content='Document Title: Document from client\\nDocument Excerpt: \\n\"Settings\" 2. \"Language/Units\" 3. \"Speech type:\" 4. Select setting. Adjusting the volume Turn the volume button while giving an in‐ struction until the desired volume is set. ▷ The volume remains constant even if the volume of other audio sources is changed. ▷ The volume is stored for the profile cur‐ rently in use. Hints on Emergency Requests Do not use the voice activation system to ini‐ tiate an Emergency Request. In stressful situa‐ tions, the voice and vocal pitch can change. Seite 28 At a glance Voice activation system 28 Online Edition for Part no. Online Edition for Part no. 01 40 2 960 440 - II/15 This can unnecessarily delay the establish‐ ment of a phone connection. Instead, use the SOS button, refer to page 223, close to the interior mirror. Environmental conditions ▷ Say the commands, numbers, and letters smoothly and with normal volume, empha‐ sis, and speed. 01 40 2 960 440 - II/15 ▷ Always say commands in the language of the voice activation system. ▷ Keep the doors, windows, and glass sun‐ roof closed to prevent noise interference. ▷ Avoid making other noise in the vehicle while speaking.\\n', metadata={'source': '', 'title': 'Document from client', 'excerpt': '\"Settings\" 2. \"Language/Units\" 3. \"Speech type:\" 4. Select setting. Adjusting the volume Turn the volume button while giving an in‐ struction until the desired volume is set. ▷ The volume remains constant even if the volume of other audio sources is changed. ▷ The volume is stored for the profile cur‐ rently in use. Hints on Emergency Requests Do not use the voice activation system to ini‐ tiate an Emergency Request. In stressful situa‐ tions, the voice and vocal pitch can change. Seite 28 At a glance Voice activation system 28 Online Edition for Part no. Online Edition for Part no. 01 40 2 960 440 - II/15 This can unnecessarily delay the establish‐ ment of a phone connection. Instead, use the SOS button, refer to page 223, close to the interior mirror. Environmental conditions ▷ Say the commands, numbers, and letters smoothly and with normal volume, empha‐ sis, and speed. 01 40 2 960 440 - II/15 ▷ Always say commands in the language of the voice activation system. ▷ Keep the doors, windows, and glass sun‐ roof closed to prevent noise interference. ▷ Avoid making other noise in the vehicle while speaking.', 'document_attributes': {}})]\n"
     ]
    }
   ],
   "source": [
    "source_documents = result['source_documents']\n",
    "print(source_documents)"
   ]
  },
  {
   "cell_type": "code",
   "execution_count": 212,
   "id": "09602aaa",
   "metadata": {},
   "outputs": [
    {
     "name": "stdout",
     "output_type": "stream",
     "text": [
      "output:   Yes, he's my friend. He's from Korea. He's in the same class as me.\n",
      "\n"
     ]
    }
   ],
   "source": [
    "print('output: ', result['result'])"
   ]
  },
  {
   "cell_type": "code",
   "execution_count": null,
   "id": "6efa69fa",
   "metadata": {},
   "outputs": [],
   "source": []
  },
  {
   "cell_type": "code",
   "execution_count": 213,
   "id": "f1a4ae17",
   "metadata": {},
   "outputs": [],
   "source": [
    "prompt_template = \"\"\"\n",
    "\n",
    "Human: This is a friendly conversation between a human and an AI. \n",
    "The AI is talkative and provides specific details from its context but limits it to 240 tokens.\n",
    "If the AI does not know the answer to a question, it truthfully says it \n",
    "does not know.\n",
    "\n",
    "Assistant: OK, got it, I'll be a talkative truthful AI assistant.\n",
    "\n",
    "Human: Here are a few documents in <documents> tags:\n",
    "<documents>\n",
    "{context}\n",
    "</documents>\n",
    "Based on the above documents, provide a detailed answer for, {question} Answer \"don't know\" \n",
    "if not present in the document. \n",
    "\n",
    "Assistant:\"\"\"\n",
    "\n",
    "PROMPT = PromptTemplate(\n",
    "    template=prompt_template, input_variables=[\"context\", \"question\"]\n",
    ")\n",
    "\n",
    "qa = RetrievalQA.from_chain_type(\n",
    "    llm=llm,\n",
    "    chain_type=\"stuff\",\n",
    "    retriever=retriever,\n",
    "    return_source_documents=True,\n",
    "    chain_type_kwargs={\"prompt\": PROMPT}\n",
    ")"
   ]
  },
  {
   "cell_type": "code",
   "execution_count": 214,
   "id": "ac94f270-2ae9-4ed5-955c-df35e72addc9",
   "metadata": {
    "tags": []
   },
   "outputs": [
    {
     "data": {
      "text/plain": [
       "'tell me about kyoungsu'"
      ]
     },
     "execution_count": 214,
     "metadata": {},
     "output_type": "execute_result"
    }
   ],
   "source": [
    "query"
   ]
  },
  {
   "cell_type": "code",
   "execution_count": 215,
   "id": "844ff737-e5f8-4626-bb8e-f78ccf564706",
   "metadata": {
    "tags": []
   },
   "outputs": [
    {
     "name": "stdout",
     "output_type": "stream",
     "text": [
      "output:   Don't know.\n"
     ]
    }
   ],
   "source": [
    "result = qa({\"query\": query})\n",
    "print('output: ', result['result'])"
   ]
  },
  {
   "cell_type": "code",
   "execution_count": null,
   "id": "8e3bb1b1-ee66-46d4-921d-088d0374e2ab",
   "metadata": {},
   "outputs": [],
   "source": []
  },
  {
   "cell_type": "code",
   "execution_count": null,
   "id": "2de250ae-dbe7-431d-9fb3-1d1e60ec2821",
   "metadata": {},
   "outputs": [],
   "source": []
  },
  {
   "cell_type": "code",
   "execution_count": null,
   "id": "4ddf5168",
   "metadata": {},
   "outputs": [],
   "source": []
  },
  {
   "cell_type": "code",
   "execution_count": null,
   "id": "5383375c",
   "metadata": {},
   "outputs": [],
   "source": []
  }
 ],
 "metadata": {
  "kernelspec": {
   "display_name": "conda_python3",
   "language": "python",
   "name": "conda_python3"
  },
  "language_info": {
   "codemirror_mode": {
    "name": "ipython",
    "version": 3
   },
   "file_extension": ".py",
   "mimetype": "text/x-python",
   "name": "python",
   "nbconvert_exporter": "python",
   "pygments_lexer": "ipython3",
   "version": "3.10.10"
  }
 },
 "nbformat": 4,
 "nbformat_minor": 5
}
